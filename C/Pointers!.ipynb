{
 "cells": [
  {
   "cell_type": "code",
   "execution_count": 26,
   "metadata": {
    "collapsed": false
   },
   "outputs": [
    {
     "name": "stderr",
     "output_type": "stream",
     "text": []
    },
    {
     "name": "stdout",
     "output_type": "stream",
     "text": [
      "2D Array:\n",
      "B[0][0] = 1, B[0][1] = 2, B[0][2] = 3, \n",
      "B[1][0] = 2, B[1][1] = 3, B[1][2] = 4, \n",
      "\n",
      "\n",
      "Our 2d array is declared as int **arr_2d, this     is because it is a pointer to a pointer to an integer. 'arr_2d' itself     when asigned to a variable would point to a 1D array of 3 integers.     To assign it to a variable\n",
      "\n",
      "arr2d- 20992016, arr2d[0]- 20992048\n",
      "\n",
      "The difference in bytes between these values is.\n",
      " 32 bytes\n",
      "\n",
      "\n",
      "\n",
      "Here we see that two adjacent int elements in the    first row of our 2d array's addresses differ by 4, that is because in    memory each int is 4 bytes. We can contrast this with the first two    elements in this char array (explan3) whose addresses differ by 1,     because each char in C is only 1 byte.:\n",
      "&arr2d[0][0]- 20992048, &arr2d[0][1]- 20992052\n",
      "&explan_bytes[0]- 820018512, &explan_bytes[1]- 820018513\n",
      "\n",
      "\n",
      "\n",
      "arr2d + 1- 20992024\n",
      "arr2d[1] - 20992080\n"
     ]
    }
   ],
   "source": [
    "// Multi-dimensional arrays\n",
    "\n",
    "#include <stdio.h>\n",
    "#include <stdlib.h>\n",
    "\n",
    "\n",
    "int** get2d_array(int num_rows, int row_len) \n",
    "{\n",
    "    int val;\n",
    "    \n",
    "    int **B = malloc(sizeof(*B) * num_rows);\n",
    "    /* error check */\n",
    "    \n",
    "    for (int i = 0; i < num_rows; i = i + 1){\n",
    "        B[i] = malloc(sizeof(*B[i]) * row_len);\n",
    "        /* error check */\n",
    "    }\n",
    "    \n",
    "    printf(\"2D Array:\\n\");\n",
    "    for (int i = 0; i < num_rows; i = i + 1){\n",
    "      for (int j = 0; j < row_len; j = j + 1){\n",
    "          val = i + j + 1;\n",
    "          B[i][j] = val;\n",
    "          printf(\"B[%d][%d] = %d, \", i, j, val);\n",
    "      } \n",
    "       printf(\"\\n\");\n",
    "    }\n",
    "    printf(\"\\n\\n\");\n",
    "    return B;\n",
    "}\n",
    "\n",
    "int main(){\n",
    "    int num_rows = 2;\n",
    "    int row_len = 3;\n",
    "    int **arr2d = get2d_array(num_rows, row_len);\n",
    "    /* Understanding pointers */\n",
    "    char explan1[] = \"Our 2d array is declared as int **arr_2d, this \\\n",
    "    is because it is a pointer to a pointer to an integer. 'arr_2d' itself \\\n",
    "    when asigned to a variable would point to a 1D array of 3 integers. \\\n",
    "    To assign it to a variable\";\n",
    "        \n",
    "    printf(\"%s\\n\\n\", explan1);\n",
    "    //int (*p)[2] = arr2d;\n",
    "    printf(\"arr2d- %d, arr2d[0]- %d\\n\", arr2d, arr2d[0]);\n",
    "    char explan2[] = \"The difference in bytes between these values is.\";\n",
    "    int diff = 32; //arr2d - arr2d[0];\n",
    "    printf(\"\\n\");\n",
    "    printf(\"%s\\n %d %s\\n\", explan2, diff, \"bytes\");\n",
    "   \n",
    "    printf(\"\\n\\n\\n\");\n",
    "    \n",
    "    char explan3[] = \"Here we see that two adjacent int elements in the\\\n",
    "    first row of our 2d array's addresses differ by 4, that is because in\\\n",
    "    memory each int is 4 bytes. We can contrast this with the first two\\\n",
    "    elements in this char array (explan3) whose addresses differ by 1, \\\n",
    "    because each char in C is only 1 byte.\";\n",
    "    printf(\"%s:\\n&arr2d[0][0]- %d, &arr2d[0][1]- %d\\n\", explan3 , &arr2d[0][0], &arr2d[0][1]);\n",
    "    printf(\"&explan_bytes[0]- %d, &explan_bytes[1]- %d\\n\", &explan3[0], &explan3[1]);\n",
    "    \n",
    "    printf(\"\\n\\n\\n\");\n",
    "    \n",
    "    printf(\"arr2d + 1- %d\\n\", arr2d + 1);\n",
    "    printf(\"arr2d[1] - %d\\n\", arr2d[1]);\n",
    "    \n",
    "    free(arr2d);\n",
    "    return 0;\n",
    "}"
   ]
  }
 ],
 "metadata": {
  "kernelspec": {
   "display_name": "C",
   "language": "c",
   "name": "c_spec"
  },
  "language_info": {
   "file_extension": "c",
   "mimetype": "text/plain",
   "name": "c"
  }
 },
 "nbformat": 4,
 "nbformat_minor": 0
}
