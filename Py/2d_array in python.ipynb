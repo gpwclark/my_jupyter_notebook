{
 "cells": [
  {
   "cell_type": "code",
   "execution_count": 32,
   "metadata": {
    "collapsed": false
   },
   "outputs": [
    {
     "data": {
      "text/plain": [
       "[[9, 9, 9, 9, 9, 9, 9, 9, 9, 9, 9, 9, 9, 9, 9, 9, 9],\n",
       " [9, 8, 8, 8, 8, 8, 8, 8, 8, 8, 8, 8, 8, 8, 8, 8, 9],\n",
       " [9, 8, 7, 7, 7, 7, 7, 7, 7, 7, 7, 7, 7, 7, 7, 8, 9],\n",
       " [9, 8, 7, 6, 6, 6, 6, 6, 6, 6, 6, 6, 6, 6, 7, 8, 9],\n",
       " [9, 8, 7, 6, 5, 5, 5, 5, 5, 5, 5, 5, 5, 6, 7, 8, 9],\n",
       " [9, 8, 7, 6, 5, 4, 4, 4, 4, 4, 4, 4, 5, 6, 7, 8, 9],\n",
       " [9, 8, 7, 6, 5, 4, 3, 3, 3, 3, 3, 4, 5, 6, 7, 8, 9],\n",
       " [9, 8, 7, 6, 5, 4, 3, 2, 2, 2, 3, 4, 5, 6, 7, 8, 9],\n",
       " [9, 8, 7, 6, 5, 4, 3, 2, 1, 2, 3, 4, 5, 6, 7, 8, 9],\n",
       " [9, 8, 7, 6, 5, 4, 3, 2, 2, 2, 3, 4, 5, 6, 7, 8, 9],\n",
       " [9, 8, 7, 6, 5, 4, 3, 3, 3, 3, 3, 4, 5, 6, 7, 8, 9],\n",
       " [9, 8, 7, 6, 5, 4, 4, 4, 4, 4, 4, 4, 5, 6, 7, 8, 9],\n",
       " [9, 8, 7, 6, 5, 5, 5, 5, 5, 5, 5, 5, 5, 6, 7, 8, 9],\n",
       " [9, 8, 7, 6, 6, 6, 6, 6, 6, 6, 6, 6, 6, 6, 7, 8, 9],\n",
       " [9, 8, 7, 7, 7, 7, 7, 7, 7, 7, 7, 7, 7, 7, 7, 8, 9],\n",
       " [9, 8, 8, 8, 8, 8, 8, 8, 8, 8, 8, 8, 8, 8, 8, 8, 9],\n",
       " [9, 9, 9, 9, 9, 9, 9, 9, 9, 9, 9, 9, 9, 9, 9, 9, 9]]"
      ]
     },
     "execution_count": 32,
     "metadata": {},
     "output_type": "execute_result"
    }
   ],
   "source": [
    "# Print concentric rectangular pattern in a 2d matrix. \n",
    "# Input: A = 4.\n",
    "# Output:\n",
    "# \n",
    "# 4 4 4 4 4 4 4 \n",
    "# 4 3 3 3 3 3 4 \n",
    "# 4 3 2 2 2 3 4 \n",
    "# 4 3 2 1 2 3 4 \n",
    "# 4 3 2 2 2 3 4 \n",
    "# 4 3 3 3 3 3 4 \n",
    "# 4 4 4 4 4 4 4 \n",
    "# Example 2:\n",
    "# \n",
    "# Input: A = 3.\n",
    "# Output:\n",
    "# \n",
    "# 3 3 3 3 3 \n",
    "# 3 2 2 2 3 \n",
    "# 3 2 1 2 3 \n",
    "# 3 2 2 2 3 \n",
    "# 3 3 3 3 3 \n",
    "\n",
    "class Solution:\n",
    "    # @param A : integer\n",
    "    # @return a list of list of integers\n",
    "    def prettyPrint(self, A):\n",
    "        if (A == 0):\n",
    "            arr2d = [[None]]\n",
    "            return arr2d\n",
    "        else:\n",
    "            last_ind = 2 * (A - 1)\n",
    "            arr2d = [[1 for x in range(last_ind + 1)] for x in range(last_ind + 1)]\n",
    "            return self.fill_arr(0, last_ind, arr2d, A)\n",
    "    \n",
    "    def fill_arr(self, topL, botR, arr2d, elem):\n",
    "        if (topL == botR):\n",
    "            return arr2d\n",
    "        \n",
    "        else:\n",
    "            i = topL\n",
    "            size = botR + 1\n",
    "            while (i < size):\n",
    "                arr2d[topL][i] = elem # top row in rect.\n",
    "                arr2d[botR][i] = elem # bot row in rect.\n",
    "                arr2d[i][topL] = elem # left column in rect.\n",
    "                arr2d[i][botR] = elem # rght column in rect.\n",
    "                i = i + 1\n",
    "        return self.fill_arr(topL + 1 , botR -1, arr2d, elem - 1)\n",
    "\n",
    "A = 9\n",
    "test = Solution()\n",
    "test.prettyPrint(A)"
   ]
  },
  {
   "cell_type": "code",
   "execution_count": null,
   "metadata": {
    "collapsed": true
   },
   "outputs": [],
   "source": []
  }
 ],
 "metadata": {
  "kernelspec": {
   "display_name": "Python 3",
   "language": "python",
   "name": "python3"
  },
  "language_info": {
   "codemirror_mode": {
    "name": "ipython",
    "version": 3
   },
   "file_extension": ".py",
   "mimetype": "text/x-python",
   "name": "python",
   "nbconvert_exporter": "python",
   "pygments_lexer": "ipython3",
   "version": "3.5.2"
  }
 },
 "nbformat": 4,
 "nbformat_minor": 0
}
